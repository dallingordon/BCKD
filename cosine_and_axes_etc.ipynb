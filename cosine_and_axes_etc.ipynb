{
 "cells": [
  {
   "cell_type": "code",
   "execution_count": 1,
   "id": "170dc1e7",
   "metadata": {},
   "outputs": [],
   "source": [
    "import numpy as np\n",
    "import torch\n",
    "import torch.nn as nn\n",
    "import torch.nn.functional as F"
   ]
  },
  {
   "cell_type": "code",
   "execution_count": 2,
   "id": "4d7cee8d",
   "metadata": {},
   "outputs": [],
   "source": [
    "b_s = 3\n",
    "logit_num = 4\n",
    "logits = torch.rand(b_s, logit_num)\n",
    "mlogits = torch.rand(b_s, logit_num)"
   ]
  },
  {
   "cell_type": "code",
   "execution_count": 3,
   "id": "623836b8",
   "metadata": {},
   "outputs": [
    {
     "data": {
      "text/plain": [
       "(tensor([[0.5767, 0.6412, 0.2021, 0.6762],\n",
       "         [0.6728, 0.4351, 0.5528, 0.0493],\n",
       "         [0.4224, 0.9186, 0.2699, 0.3113]]),\n",
       " tensor([[0.3207, 0.9544, 0.5005, 0.3938],\n",
       "         [0.9448, 0.2312, 0.1109, 0.5175],\n",
       "         [0.8904, 0.4951, 0.7455, 0.1199]]))"
      ]
     },
     "execution_count": 3,
     "metadata": {},
     "output_type": "execute_result"
    }
   ],
   "source": [
    "logits, mlogits"
   ]
  },
  {
   "cell_type": "code",
   "execution_count": null,
   "id": "22a364c0",
   "metadata": {},
   "outputs": [],
   "source": []
  },
  {
   "cell_type": "code",
   "execution_count": 4,
   "id": "a913e9ab",
   "metadata": {},
   "outputs": [],
   "source": [
    "def cos_both_dim(logits_student, logits_teacher):\n",
    "    cos_1 = 1 - torch.nn.functional.cosine_similarity(logits_student, logits_teacher, dim=-1)\n",
    "    cos_2 = 1 - torch.nn.functional.cosine_similarity(logits_student, logits_teacher, dim=-2)\n",
    "    \n",
    "    return cos_1.mean() + cos_2.mean()\n",
    "\n",
    "def cos_both_dim_prod(logits_student, logits_teacher):\n",
    "    cos_1 = 2 - torch.nn.functional.cosine_similarity(logits_student, logits_teacher, dim=-1)\n",
    "    cos_2 = 2 - torch.nn.functional.cosine_similarity(logits_student, logits_teacher, dim=-2)\n",
    "    product = torch.outer(cos_1,cos_2)\n",
    "    return product.mean()\n",
    "\n",
    "def cos_ma_interactive_cd(logits_student, logits_teacher):\n",
    "    #print(logits_student.shape)\n",
    "    student_class_ineraction_a = logits_student.unsqueeze(0)\n",
    "    student_class_ineraction_b = logits_student.unsqueeze(1)\n",
    "    student_class_ineraction_prod = student_class_ineraction_a * student_class_ineraction_b\n",
    "    \n",
    "    teacher_class_ineraction_a = logits_teacher.unsqueeze(0)\n",
    "    teacher_class_ineraction_b = logits_teacher.unsqueeze(1)\n",
    "    teacher_class_ineraction_prod = teacher_class_ineraction_a * teacher_class_ineraction_b\n",
    "    #cos_1 = 2 - torch.nn.functional.cosine_similarity(logits_student, logits_teacher, dim=-1)\n",
    "    #cos_2 = 2 - torch.nn.functional.cosine_similarity(logits_student, logits_teacher, dim=-2)\n",
    "    #product = torch.outer(cos_1,cos_2)\n",
    "    #print(student_class_ineraction_prod,teacher_class_ineraction_prod)\n",
    "    cos_class_interaction =1 - torch.nn.functional.cosine_similarity(student_class_ineraction_prod\n",
    "                                                                  , teacher_class_ineraction_prod, dim=2)\n",
    "    #print(cos_class_interaction)\n",
    "    return cos_class_interaction.mean() #should i square these in place? i only did it cuz i saw zeros...idk\n",
    "# i think i just do this additively to the previous 2."
   ]
  },
  {
   "cell_type": "code",
   "execution_count": 7,
   "id": "58a1e77f",
   "metadata": {},
   "outputs": [],
   "source": [
    "l_1 = torch.tensor([[3,2,1],[4,5,6],[7,11,9]]).to(torch.float32)\n",
    "l_2 = torch.tensor([[6,4,2],[8,10,12],[3.5,5.5,4.5]]).to(torch.float32)"
   ]
  },
  {
   "cell_type": "code",
   "execution_count": 8,
   "id": "cebb6755",
   "metadata": {},
   "outputs": [
    {
     "data": {
      "text/plain": [
       "tensor(-2.6491e-08)"
      ]
     },
     "execution_count": 8,
     "metadata": {},
     "output_type": "execute_result"
    }
   ],
   "source": [
    "cos_ma_interactive_cd(l_1,l_2)"
   ]
  },
  {
   "cell_type": "code",
   "execution_count": 9,
   "id": "5d8f8a96",
   "metadata": {},
   "outputs": [
    {
     "data": {
      "text/plain": [
       "tensor(0.1900)"
      ]
     },
     "execution_count": 9,
     "metadata": {},
     "output_type": "execute_result"
    }
   ],
   "source": [
    "cos_both_dim(l_1,l_2)"
   ]
  },
  {
   "cell_type": "code",
   "execution_count": 10,
   "id": "322978da",
   "metadata": {},
   "outputs": [
    {
     "data": {
      "text/plain": [
       "(tensor(-3.9736e-08), tensor(-9.4374e-08))"
      ]
     },
     "execution_count": 10,
     "metadata": {},
     "output_type": "execute_result"
    }
   ],
   "source": [
    "cos_ma_interactive_cd(logits,logits), cos_both_dim(logits,logits)"
   ]
  },
  {
   "cell_type": "code",
   "execution_count": 8,
   "id": "c1989e81",
   "metadata": {},
   "outputs": [],
   "source": [
    "x = torch.tensor([[1.0,2,3],[2,3,4]])\n",
    "y = torch.tensor([[1.1,2.7,2.6],[3,3.2,3.3]])"
   ]
  },
  {
   "cell_type": "code",
   "execution_count": 142,
   "id": "ff4322b7",
   "metadata": {},
   "outputs": [
    {
     "name": "stdout",
     "output_type": "stream",
     "text": [
      "torch.Size([2, 3])\n"
     ]
    }
   ],
   "source": [
    "print(x.shape)"
   ]
  },
  {
   "cell_type": "code",
   "execution_count": 159,
   "id": "4b16819d",
   "metadata": {},
   "outputs": [],
   "source": [
    "#all interactions:\n",
    "def all_interactions_cd(logits_student, logits_teacher):\n",
    "    student_batch_interactions = logits_student.unsqueeze(1) * logits_student.unsqueeze(0)\n",
    "    student_class_interactions = logits_student.unsqueeze(2) * logits_student.unsqueeze(1)\n",
    "\n",
    "    student_batch_interactions = student_batch_interactions.unsqueeze(-1)  # Shape becomes [b, b, c, 1]\n",
    "    student_class_interactions = student_class_interactions.unsqueeze(0)  # Shape becomes [1, b, c, c]\n",
    "\n",
    "    student_expanded = student_batch_interactions * student_class_interactions\n",
    "    \n",
    "    teacher_batch_interactions = logits_teacher.unsqueeze(1) * logits_teacher.unsqueeze(0)\n",
    "    teacher_class_interactions = logits_teacher.unsqueeze(2) * logits_teacher.unsqueeze(1)\n",
    "\n",
    "    teacher_batch_interactions = teacher_batch_interactions.unsqueeze(-1)  # Shape becomes [b, b, c, 1]\n",
    "    teacher_class_interactions = teacher_class_interactions.unsqueeze(0)  # Shape becomes [1, b, c, c]\n",
    "\n",
    "    teacher_expanded = teacher_batch_interactions * teacher_class_interactions\n",
    "    \n",
    "    cd_0 =1 - torch.nn.functional.cosine_similarity(student_expanded, teacher_expanded, dim=0)\n",
    "    cd_1 =1 - torch.nn.functional.cosine_similarity(student_expanded, teacher_expanded, dim=1)\n",
    "    cd_2 =1 - torch.nn.functional.cosine_similarity(student_expanded, teacher_expanded, dim=2)\n",
    "    cd_3 =1 - torch.nn.functional.cosine_similarity(student_expanded, teacher_expanded, dim=3)\n",
    "    #print(cd_0.mean(), cd_1.mean(), cd_2.mean(), cd_3.mean())\n",
    "    return cd_0.mean() + cd_1.mean() + cd_2.mean() + cd_3.mean()"
   ]
  },
  {
   "cell_type": "code",
   "execution_count": 164,
   "id": "98c82166",
   "metadata": {},
   "outputs": [],
   "source": [
    "ttt = all_interactions_cd(logits,mlogits)"
   ]
  },
  {
   "cell_type": "code",
   "execution_count": 165,
   "id": "c9918e34",
   "metadata": {},
   "outputs": [
    {
     "data": {
      "text/plain": [
       "tensor(2.0156)"
      ]
     },
     "execution_count": 165,
     "metadata": {},
     "output_type": "execute_result"
    }
   ],
   "source": [
    "ttt\n"
   ]
  },
  {
   "cell_type": "code",
   "execution_count": 110,
   "id": "8f52ada0",
   "metadata": {},
   "outputs": [
    {
     "data": {
      "text/plain": [
       "tensor([2., 4., 6.])"
      ]
     },
     "execution_count": 110,
     "metadata": {},
     "output_type": "execute_result"
    }
   ],
   "source": [
    "ttt[0][1][0][:]"
   ]
  },
  {
   "cell_type": "code",
   "execution_count": 90,
   "id": "abe10ffc",
   "metadata": {},
   "outputs": [],
   "source": [
    "def axes_interactions_loss(logits_student, logits_teacher, axis = 1, cd_collapse_axis = 0):\n",
    "    #do 1 for batches, 2 for classes.\n",
    "    student_expanded_a = logits_student.unsqueeze(axis)\n",
    "    student_expanded_b = logits_student.unsqueeze(axis - 1)\n",
    "    student_expanded = student_expanded_a * student_expanded_b\n",
    "    \n",
    "    teacher_expanded_a = logits_teacher.unsqueeze(axis)\n",
    "    teacher_expanded_b = logits_teacher.unsqueeze(axis - 1)\n",
    "    teacher_expanded = teacher_expanded_a * teacher_expanded_b\n",
    "    \n",
    "    cd = 1 - torch.nn.functional.cosine_similarity(student_expanded, teacher_expanded, dim=cd_collapse_axis)\n",
    "\n",
    "    return cd.mean()"
   ]
  },
  {
   "cell_type": "code",
   "execution_count": 92,
   "id": "10f0b58a",
   "metadata": {},
   "outputs": [
    {
     "name": "stdout",
     "output_type": "stream",
     "text": [
      "torch.Size([2, 3, 3])\n",
      "torch.Size([2, 3])\n"
     ]
    },
    {
     "data": {
      "text/plain": [
       "(tensor([[1., 2., 3.],\n",
       "         [2., 3., 4.]]),\n",
       " tensor(0.0237))"
      ]
     },
     "execution_count": 92,
     "metadata": {},
     "output_type": "execute_result"
    }
   ],
   "source": [
    "\n",
    "x,axes_interactions_loss(x,y,2,1)"
   ]
  },
  {
   "cell_type": "code",
   "execution_count": 50,
   "id": "a7be26b4",
   "metadata": {},
   "outputs": [
    {
     "data": {
      "text/plain": [
       "tensor([2., 3., 4.])"
      ]
     },
     "execution_count": 50,
     "metadata": {},
     "output_type": "execute_result"
    }
   ],
   "source": [
    "x[1]"
   ]
  },
  {
   "cell_type": "code",
   "execution_count": null,
   "id": "ed1911ae",
   "metadata": {},
   "outputs": [],
   "source": []
  }
 ],
 "metadata": {
  "kernelspec": {
   "display_name": "Python 3 (ipykernel)",
   "language": "python",
   "name": "python3"
  },
  "language_info": {
   "codemirror_mode": {
    "name": "ipython",
    "version": 3
   },
   "file_extension": ".py",
   "mimetype": "text/x-python",
   "name": "python",
   "nbconvert_exporter": "python",
   "pygments_lexer": "ipython3",
   "version": "3.10.12"
  }
 },
 "nbformat": 4,
 "nbformat_minor": 5
}
