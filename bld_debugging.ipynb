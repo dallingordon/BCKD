{
 "cells": [
  {
   "cell_type": "code",
   "execution_count": 1,
   "id": "5cadbc81",
   "metadata": {},
   "outputs": [],
   "source": [
    "import torch\n",
    "import torch.nn as nn\n",
    "import torch.nn.functional as F"
   ]
  },
  {
   "cell_type": "code",
   "execution_count": 2,
   "id": "89e4318e",
   "metadata": {},
   "outputs": [],
   "source": [
    "def batch_differences_cosine_distance(logits_student, logits_teacher):\n",
    "    batch_size = logits_teacher.shape[0]\n",
    "    student_differences = logits_student.unsqueeze(1) - logits_student.unsqueeze(0)\n",
    "    teacher_differences = logits_teacher.unsqueeze(1) - logits_teacher.unsqueeze(0)\n",
    "    cosine_dist = 1 - F.cosine_similarity(student_differences, teacher_differences, dim = -1 )\n",
    "   \n",
    "    return cosine_dist.mean()"
   ]
  },
  {
   "cell_type": "code",
   "execution_count": 3,
   "id": "f5284556",
   "metadata": {},
   "outputs": [],
   "source": [
    "def batch_differences_cosine_distance_debug(logits_student, logits_teacher):\n",
    "    #batch_size = logits_teacher.shape[0]\n",
    "    student_differences = logits_student.unsqueeze(1) - logits_student.unsqueeze(0)\n",
    "    teacher_differences = logits_teacher.unsqueeze(1) - logits_teacher.unsqueeze(0)\n",
    "    cosine_dist = 1 - F.cosine_similarity(student_differences, teacher_differences, dim = -1 )\n",
    "    print(cosine_dist)\n",
    "   \n",
    "    return cosine_dist.mean()"
   ]
  },
  {
   "cell_type": "code",
   "execution_count": 42,
   "id": "bde7bbd9",
   "metadata": {},
   "outputs": [
    {
     "name": "stdout",
     "output_type": "stream",
     "text": [
      "tensor([[0.2377, 0.0020, 0.8722,  ..., 0.5039, 0.1515, 0.6148],\n",
      "        [0.2303, 0.4533, 0.9153,  ..., 0.6092, 0.9271, 0.3001],\n",
      "        [0.0152, 0.7739, 0.3898,  ..., 0.8586, 0.1801, 0.9961],\n",
      "        ...,\n",
      "        [0.6706, 0.9098, 0.8742,  ..., 0.6532, 0.3225, 0.1246],\n",
      "        [0.8299, 0.7369, 0.4130,  ..., 0.0474, 0.6439, 0.7370],\n",
      "        [0.8875, 0.5727, 0.4768,  ..., 0.7508, 0.2017, 0.9356]])\n"
     ]
    }
   ],
   "source": [
    "b_s = 10\n",
    "logit_num = 1000\n",
    "logits = torch.rand(b_s, logit_num)\n",
    "print(logits)\n",
    "\n",
    "\n",
    "##this is pretent outputs\n",
    "mlogits = torch.rand(b_s, logit_num)\n",
    "\n"
   ]
  },
  {
   "cell_type": "code",
   "execution_count": 50,
   "id": "b3f5ff5d",
   "metadata": {},
   "outputs": [
    {
     "data": {
      "text/plain": [
       "tensor(1.0007)"
      ]
     },
     "execution_count": 50,
     "metadata": {},
     "output_type": "execute_result"
    }
   ],
   "source": [
    "batch_differences_cosine_distance(logits,mlogits)"
   ]
  },
  {
   "cell_type": "code",
   "execution_count": 53,
   "id": "7e0ce455",
   "metadata": {},
   "outputs": [],
   "source": [
    "def batch_differences_cosine_distance_pseudo(logits_student, logits_teacher, pseudo_batch = 5):\n",
    "    #batch_size = logits_teacher.shape[0]\n",
    "    student_differences = logits_student.unsqueeze(1) - logits_student.unsqueeze(0)\n",
    "    teacher_differences = logits_teacher.unsqueeze(1) - logits_teacher.unsqueeze(0)\n",
    "    cosine_dist = 1 - F.cosine_similarity(student_differences, teacher_differences, dim = -1 )\n",
    "    \n",
    "    mask = torch.ones_like(cosine_dist)\n",
    "    mask[:, pseudo_batch:] = 0\n",
    "    #print( cosine_dist, mask,cosine_dist*mask, mask.sum() )\n",
    "    \n",
    "    return ((cosine_dist*mask)/mask.sum()).sum()"
   ]
  },
  {
   "cell_type": "code",
   "execution_count": 62,
   "id": "331f6d47",
   "metadata": {},
   "outputs": [
    {
     "data": {
      "text/plain": [
       "tensor(1.0075)"
      ]
     },
     "execution_count": 62,
     "metadata": {},
     "output_type": "execute_result"
    }
   ],
   "source": [
    "batch_differences_cosine_distance_pseudo(logits,mlogits,pseudo_batch = 10)"
   ]
  },
  {
   "cell_type": "code",
   "execution_count": null,
   "id": "49866cf0",
   "metadata": {},
   "outputs": [],
   "source": []
  }
 ],
 "metadata": {
  "kernelspec": {
   "display_name": "Python 3 (ipykernel)",
   "language": "python",
   "name": "python3"
  },
  "language_info": {
   "codemirror_mode": {
    "name": "ipython",
    "version": 3
   },
   "file_extension": ".py",
   "mimetype": "text/x-python",
   "name": "python",
   "nbconvert_exporter": "python",
   "pygments_lexer": "ipython3",
   "version": "3.10.12"
  }
 },
 "nbformat": 4,
 "nbformat_minor": 5
}
