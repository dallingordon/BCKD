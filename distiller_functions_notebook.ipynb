{
 "cells": [
  {
   "cell_type": "code",
   "execution_count": 1,
   "id": "1f995057",
   "metadata": {},
   "outputs": [],
   "source": [
    "import numpy as np\n",
    "import torch\n",
    "import torch.nn as nn\n",
    "import torch.nn.functional as F"
   ]
  },
  {
   "cell_type": "code",
   "execution_count": 2,
   "id": "431a8ede",
   "metadata": {},
   "outputs": [],
   "source": [
    "# from /mdistiller/mdistiller/distillers/KD.py (hinton kd)\n",
    "def kd_loss(logits_student, logits_teacher, temperature):\n",
    "    log_pred_student = F.log_softmax(logits_student / temperature, dim=1)\n",
    "    pred_teacher = F.softmax(logits_teacher / temperature, dim=1)\n",
    "    loss_kd = F.kl_div(log_pred_student, pred_teacher, reduction=\"none\").sum(1).mean()\n",
    "    loss_kd *= temperature**2\n",
    "    return loss_kd"
   ]
  },
  {
   "cell_type": "code",
   "execution_count": 3,
   "id": "fcb6a32a",
   "metadata": {},
   "outputs": [
    {
     "data": {
      "text/plain": [
       "(tensor([[ 0.1999, -0.2893,  2.9475,  0.2612,  1.0793]]),\n",
       " tensor([[-0.0844, -1.1990,  2.9200,  0.5978,  0.9859]]))"
      ]
     },
     "execution_count": 3,
     "metadata": {},
     "output_type": "execute_result"
    }
   ],
   "source": [
    "batch_size = 1\n",
    "num_logits = 5\n",
    "\n",
    "fake_data = torch.randn(batch_size, num_logits)\n",
    "fake_out = fake_data + torch.randn(batch_size, num_logits)*0.5\n",
    "fake_data ,fake_out"
   ]
  },
  {
   "cell_type": "code",
   "execution_count": 4,
   "id": "a5338105",
   "metadata": {},
   "outputs": [
    {
     "data": {
      "text/plain": [
       "tensor(0.0126)"
      ]
     },
     "execution_count": 4,
     "metadata": {},
     "output_type": "execute_result"
    }
   ],
   "source": [
    "kd_loss(fake_data,fake_out,1.0) #this is correct just fyi.  it takes a batch, returns a scalar.  i didn't know that lol\n"
   ]
  },
  {
   "cell_type": "code",
   "execution_count": 5,
   "id": "423e9ba0",
   "metadata": {},
   "outputs": [],
   "source": [
    "class CosineDistanceLoss(nn.Module):\n",
    "    def __init__(self):\n",
    "        super(CosineDistanceLoss, self).__init__()\n",
    "    \n",
    "    def forward(self, output, target):\n",
    "        # Cosine similarity\n",
    "        cosine_similarity = F.cosine_similarity(output, target)\n",
    "        # Convert to distance\n",
    "        cosine_distance = 1 - cosine_similarity\n",
    "        return cosine_distance.mean()"
   ]
  },
  {
   "cell_type": "code",
   "execution_count": 6,
   "id": "0b3061e5",
   "metadata": {},
   "outputs": [],
   "source": [
    "def sldcd_loss(logits_student, logits_teacher):\n",
    "    batch_size = logits_teacher.shape[0]\n",
    "    shuffled_labels = logits_teacher[[batch_size - 1] + [i for i in range(batch_size - 1)]]\n",
    "    cosine_dist = 1 - F.cosine_similarity(logits_student - shuffled_labels, logits_teacher - shuffled_labels )\n",
    "    return cosine_dist.mean()"
   ]
  },
  {
   "cell_type": "code",
   "execution_count": 7,
   "id": "54ee671a",
   "metadata": {},
   "outputs": [
    {
     "data": {
      "text/plain": [
       "tensor(1.)"
      ]
     },
     "execution_count": 7,
     "metadata": {},
     "output_type": "execute_result"
    }
   ],
   "source": [
    "sldcd_loss(fake_data,fake_data) #this is working it seems"
   ]
  },
  {
   "cell_type": "code",
   "execution_count": 8,
   "id": "352235c8",
   "metadata": {},
   "outputs": [
    {
     "data": {
      "text/plain": [
       "tensor([[-0.0844, -1.1990,  2.9200,  0.5978,  0.9859]])"
      ]
     },
     "execution_count": 8,
     "metadata": {},
     "output_type": "execute_result"
    }
   ],
   "source": [
    "fake_out\n",
    "batch_size = fake_out.shape[0]\n",
    "fake_out[[batch_size - 1] + [i for i in range(batch_size - 1)]]"
   ]
  },
  {
   "cell_type": "code",
   "execution_count": 9,
   "id": "b85e0c55",
   "metadata": {},
   "outputs": [
    {
     "data": {
      "text/plain": [
       "(tensor([[0.0483, 0.0296, 0.7542, 0.0514, 0.1165]]),\n",
       " tensor([[0.0040, 0.0015, 0.9670, 0.0045, 0.0231]]))"
      ]
     },
     "execution_count": 9,
     "metadata": {},
     "output_type": "execute_result"
    }
   ],
   "source": [
    "F.softmax(fake_data, dim = 1), F.softmax(fake_data*2, dim = 1)"
   ]
  },
  {
   "cell_type": "code",
   "execution_count": 10,
   "id": "e3b91f19",
   "metadata": {},
   "outputs": [
    {
     "data": {
      "text/plain": [
       "torch.Size([1, 5])"
      ]
     },
     "execution_count": 10,
     "metadata": {},
     "output_type": "execute_result"
    }
   ],
   "source": [
    "fake_data.shape"
   ]
  },
  {
   "cell_type": "code",
   "execution_count": 11,
   "id": "9d57b6b4",
   "metadata": {},
   "outputs": [
    {
     "data": {
      "text/plain": [
       "0.14254289865493774"
      ]
     },
     "execution_count": 11,
     "metadata": {},
     "output_type": "execute_result"
    }
   ],
   "source": [
    "random_number = torch.rand(1).item()\n",
    "random_number"
   ]
  },
  {
   "cell_type": "code",
   "execution_count": 12,
   "id": "2f589a46",
   "metadata": {},
   "outputs": [],
   "source": [
    "def mse(logits_student, logits_teacher):\n",
    "    mse_loss = F.mse_loss(logits_student, logits_teacher, reduction='mean')\n",
    "    return mse_loss"
   ]
  },
  {
   "cell_type": "code",
   "execution_count": 13,
   "id": "edaaec59",
   "metadata": {},
   "outputs": [
    {
     "data": {
      "text/plain": [
       "tensor(0.2062)"
      ]
     },
     "execution_count": 13,
     "metadata": {},
     "output_type": "execute_result"
    }
   ],
   "source": [
    "mse(fake_data,fake_out)"
   ]
  },
  {
   "cell_type": "code",
   "execution_count": 61,
   "id": "576bc720",
   "metadata": {},
   "outputs": [
    {
     "name": "stdout",
     "output_type": "stream",
     "text": [
      "tensor([[0.1300, 0.9295, 0.0090, 0.7884],\n",
      "        [0.6726, 0.3128, 0.5114, 0.8454],\n",
      "        [0.9910, 0.3537, 0.8739, 0.6454]])\n",
      "tensor([[0.1455, 0.6272, 0.9989, 0.3352],\n",
      "        [0.4480, 0.9484, 0.9018, 0.1874],\n",
      "        [0.2450, 0.2721, 0.6975, 0.4047]])\n"
     ]
    }
   ],
   "source": [
    "b_s = 3\n",
    "logit_num = 4\n",
    "logits = torch.rand(b_s, logit_num)\n",
    "print(logits)\n",
    "logits_expanded_1 = logits.unsqueeze(1)  # Expands to (64, 1, 10)\n",
    "logits_expanded_2 = logits.unsqueeze(0)  # Expands to (1, 64, 10)\n",
    "\n",
    "# Subtract the tensors, resulting in a (64, 64, 10) tensor\n",
    "# Each element in the batch is subtracted from every other element, making the diagonals 0\n",
    "resultant_tensor = logits_expanded_1 - logits_expanded_2\n",
    "\n",
    "##this is pretent outputs\n",
    "mlogits = torch.rand(b_s, logit_num)\n",
    "print(mlogits)\n",
    "mlogits_expanded_1 = mlogits.unsqueeze(1)  # Expands to (64, 1, 10)\n",
    "mlogits_expanded_2 = mlogits.unsqueeze(0)  # Expands to (1, 64, 10)\n",
    "\n",
    "# Subtract the tensors, resulting in a (64, 64, 10) tensor\n",
    "# Each element in the batch is subtracted from every other element, making the diagonals 0\n",
    "mresultant_tensor = mlogits_expanded_1 - mlogits_expanded_2"
   ]
  },
  {
   "cell_type": "code",
   "execution_count": 15,
   "id": "1e562c67",
   "metadata": {},
   "outputs": [
    {
     "data": {
      "text/plain": [
       "(tensor([[[ 0.0000,  0.0000,  0.0000,  ...,  0.0000,  0.0000,  0.0000],\n",
       "          [-0.2595, -0.8384,  0.8348,  ...,  0.1543, -0.0079, -0.2668],\n",
       "          [-0.0588, -0.2912,  0.6883,  ..., -0.2435,  0.1189, -0.4383],\n",
       "          ...,\n",
       "          [-0.0601, -0.0600,  0.8908,  ..., -0.0586,  0.1923, -0.2334],\n",
       "          [-0.4334, -0.4449,  0.8308,  ...,  0.0572,  0.0191, -0.3169],\n",
       "          [-0.0431, -0.1000,  0.4034,  ..., -0.1949, -0.6598,  0.0850]],\n",
       " \n",
       "         [[ 0.2595,  0.8384, -0.8348,  ..., -0.1543,  0.0079,  0.2668],\n",
       "          [ 0.0000,  0.0000,  0.0000,  ...,  0.0000,  0.0000,  0.0000],\n",
       "          [ 0.2006,  0.5472, -0.1465,  ..., -0.3979,  0.1268, -0.1716],\n",
       "          ...,\n",
       "          [ 0.1994,  0.7784,  0.0559,  ..., -0.2129,  0.2002,  0.0333],\n",
       "          [-0.1739,  0.3936, -0.0040,  ..., -0.0971,  0.0270, -0.0501],\n",
       "          [ 0.2164,  0.7385, -0.4314,  ..., -0.3492, -0.6519,  0.3517]],\n",
       " \n",
       "         [[ 0.0588,  0.2912, -0.6883,  ...,  0.2435, -0.1189,  0.4383],\n",
       "          [-0.2006, -0.5472,  0.1465,  ...,  0.3979, -0.1268,  0.1716],\n",
       "          [ 0.0000,  0.0000,  0.0000,  ...,  0.0000,  0.0000,  0.0000],\n",
       "          ...,\n",
       "          [-0.0013,  0.2312,  0.2025,  ...,  0.1850,  0.0734,  0.2049],\n",
       "          [-0.3745, -0.1536,  0.1426,  ...,  0.3008, -0.0998,  0.1215],\n",
       "          [ 0.0157,  0.1912, -0.2849,  ...,  0.0487, -0.7787,  0.5233]],\n",
       " \n",
       "         ...,\n",
       " \n",
       "         [[ 0.0601,  0.0600, -0.8908,  ...,  0.0586, -0.1923,  0.2334],\n",
       "          [-0.1994, -0.7784, -0.0559,  ...,  0.2129, -0.2002, -0.0333],\n",
       "          [ 0.0013, -0.2312, -0.2025,  ..., -0.1850, -0.0734, -0.2049],\n",
       "          ...,\n",
       "          [ 0.0000,  0.0000,  0.0000,  ...,  0.0000,  0.0000,  0.0000],\n",
       "          [-0.3733, -0.3848, -0.0599,  ...,  0.1158, -0.1732, -0.0835],\n",
       "          [ 0.0170, -0.0400, -0.4874,  ..., -0.1363, -0.8521,  0.3184]],\n",
       " \n",
       "         [[ 0.4334,  0.4449, -0.8308,  ..., -0.0572, -0.0191,  0.3169],\n",
       "          [ 0.1739, -0.3936,  0.0040,  ...,  0.0971, -0.0270,  0.0501],\n",
       "          [ 0.3745,  0.1536, -0.1426,  ..., -0.3008,  0.0998, -0.1215],\n",
       "          ...,\n",
       "          [ 0.3733,  0.3848,  0.0599,  ..., -0.1158,  0.1732,  0.0835],\n",
       "          [ 0.0000,  0.0000,  0.0000,  ...,  0.0000,  0.0000,  0.0000],\n",
       "          [ 0.3903,  0.3449, -0.4275,  ..., -0.2521, -0.6789,  0.4019]],\n",
       " \n",
       "         [[ 0.0431,  0.1000, -0.4034,  ...,  0.1949,  0.6598, -0.0850],\n",
       "          [-0.2164, -0.7385,  0.4314,  ...,  0.3492,  0.6519, -0.3517],\n",
       "          [-0.0157, -0.1912,  0.2849,  ..., -0.0487,  0.7787, -0.5233],\n",
       "          ...,\n",
       "          [-0.0170,  0.0400,  0.4874,  ...,  0.1363,  0.8521, -0.3184],\n",
       "          [-0.3903, -0.3449,  0.4275,  ...,  0.2521,  0.6789, -0.4019],\n",
       "          [ 0.0000,  0.0000,  0.0000,  ...,  0.0000,  0.0000,  0.0000]]]),\n",
       " tensor([[[ 0.0000,  0.0000,  0.0000,  ...,  0.0000,  0.0000,  0.0000],\n",
       "          [ 0.4339,  0.7259,  0.1555,  ..., -0.3314, -0.5939, -0.6725],\n",
       "          [ 0.2103,  0.3137,  0.2808,  ..., -0.3611, -0.6481, -0.6013],\n",
       "          ...,\n",
       "          [ 0.4255,  0.5827, -0.3064,  ...,  0.0336, -0.1041, -0.7289],\n",
       "          [-0.4186, -0.1027, -0.1706,  ..., -0.1545, -0.3690, -0.3698],\n",
       "          [-0.2238,  0.2208,  0.1360,  ..., -0.0128, -0.5402, -0.1737]],\n",
       " \n",
       "         [[-0.4339, -0.7259, -0.1555,  ...,  0.3314,  0.5939,  0.6725],\n",
       "          [ 0.0000,  0.0000,  0.0000,  ...,  0.0000,  0.0000,  0.0000],\n",
       "          [-0.2236, -0.4121,  0.1253,  ..., -0.0297, -0.0542,  0.0711],\n",
       "          ...,\n",
       "          [-0.0084, -0.1431, -0.4619,  ...,  0.3650,  0.4898, -0.0564],\n",
       "          [-0.8524, -0.8286, -0.3261,  ...,  0.1769,  0.2249,  0.3027],\n",
       "          [-0.6577, -0.5051, -0.0195,  ...,  0.3186,  0.0537,  0.4988]],\n",
       " \n",
       "         [[-0.2103, -0.3137, -0.2808,  ...,  0.3611,  0.6481,  0.6013],\n",
       "          [ 0.2236,  0.4121, -0.1253,  ...,  0.0297,  0.0542, -0.0711],\n",
       "          [ 0.0000,  0.0000,  0.0000,  ...,  0.0000,  0.0000,  0.0000],\n",
       "          ...,\n",
       "          [ 0.2152,  0.2690, -0.5872,  ...,  0.3947,  0.5440, -0.1276],\n",
       "          [-0.6288, -0.4164, -0.4515,  ...,  0.2066,  0.2791,  0.2315],\n",
       "          [-0.4341, -0.0929, -0.1448,  ...,  0.3483,  0.1079,  0.4276]],\n",
       " \n",
       "         ...,\n",
       " \n",
       "         [[-0.4255, -0.5827,  0.3064,  ..., -0.0336,  0.1041,  0.7289],\n",
       "          [ 0.0084,  0.1431,  0.4619,  ..., -0.3650, -0.4898,  0.0564],\n",
       "          [-0.2152, -0.2690,  0.5872,  ..., -0.3947, -0.5440,  0.1276],\n",
       "          ...,\n",
       "          [ 0.0000,  0.0000,  0.0000,  ...,  0.0000,  0.0000,  0.0000],\n",
       "          [-0.8440, -0.6854,  0.1357,  ..., -0.1881, -0.2649,  0.3591],\n",
       "          [-0.6493, -0.3619,  0.4423,  ..., -0.0464, -0.4361,  0.5552]],\n",
       " \n",
       "         [[ 0.4186,  0.1027,  0.1706,  ...,  0.1545,  0.3690,  0.3698],\n",
       "          [ 0.8524,  0.8286,  0.3261,  ..., -0.1769, -0.2249, -0.3027],\n",
       "          [ 0.6288,  0.4164,  0.4515,  ..., -0.2066, -0.2791, -0.2315],\n",
       "          ...,\n",
       "          [ 0.8440,  0.6854, -0.1357,  ...,  0.1881,  0.2649, -0.3591],\n",
       "          [ 0.0000,  0.0000,  0.0000,  ...,  0.0000,  0.0000,  0.0000],\n",
       "          [ 0.1947,  0.3235,  0.3066,  ...,  0.1417, -0.1712,  0.1961]],\n",
       " \n",
       "         [[ 0.2238, -0.2208, -0.1360,  ...,  0.0128,  0.5402,  0.1737],\n",
       "          [ 0.6577,  0.5051,  0.0195,  ..., -0.3186, -0.0537, -0.4988],\n",
       "          [ 0.4341,  0.0929,  0.1448,  ..., -0.3483, -0.1079, -0.4276],\n",
       "          ...,\n",
       "          [ 0.6493,  0.3619, -0.4423,  ...,  0.0464,  0.4361, -0.5552],\n",
       "          [-0.1947, -0.3235, -0.3066,  ..., -0.1417,  0.1712, -0.1961],\n",
       "          [ 0.0000,  0.0000,  0.0000,  ...,  0.0000,  0.0000,  0.0000]]]))"
      ]
     },
     "execution_count": 15,
     "metadata": {},
     "output_type": "execute_result"
    }
   ],
   "source": [
    "resultant_tensor, mresultant_tensor"
   ]
  },
  {
   "cell_type": "code",
   "execution_count": 16,
   "id": "eb0c667c",
   "metadata": {},
   "outputs": [
    {
     "data": {
      "text/plain": [
       "tensor([[1.0000, 0.9916, 0.9786,  ..., 1.0309, 1.0135, 0.9620],\n",
       "        [0.9916, 1.0000, 1.0042,  ..., 0.9650, 0.9661, 0.9815],\n",
       "        [0.9786, 1.0042, 1.0000,  ..., 0.9775, 0.9971, 0.9925],\n",
       "        ...,\n",
       "        [1.0309, 0.9650, 0.9775,  ..., 1.0000, 0.9992, 0.9829],\n",
       "        [1.0135, 0.9661, 0.9971,  ..., 0.9992, 1.0000, 0.9986],\n",
       "        [0.9620, 0.9815, 0.9925,  ..., 0.9829, 0.9986, 1.0000]])"
      ]
     },
     "execution_count": 16,
     "metadata": {},
     "output_type": "execute_result"
    }
   ],
   "source": [
    "x = 1 - F.cosine_similarity(resultant_tensor,mresultant_tensor, dim = -1)\n",
    "x"
   ]
  },
  {
   "cell_type": "code",
   "execution_count": 17,
   "id": "580a7a3c",
   "metadata": {},
   "outputs": [
    {
     "data": {
      "text/plain": [
       "tensor(65611.9297)"
      ]
     },
     "execution_count": 17,
     "metadata": {},
     "output_type": "execute_result"
    }
   ],
   "source": [
    "x.sum() -4"
   ]
  },
  {
   "cell_type": "code",
   "execution_count": 18,
   "id": "e9522be3",
   "metadata": {},
   "outputs": [
    {
     "data": {
      "text/plain": [
       "tensor([[[ 0.0000,  0.0000,  0.0000,  ...,  0.0000,  0.0000,  0.0000],\n",
       "         [-0.2595, -0.8384,  0.8348,  ...,  0.1543, -0.0079, -0.2668],\n",
       "         [-0.0588, -0.2912,  0.6883,  ..., -0.2435,  0.1189, -0.4383],\n",
       "         ...,\n",
       "         [-0.0601, -0.0600,  0.8908,  ..., -0.0586,  0.1923, -0.2334],\n",
       "         [-0.4334, -0.4449,  0.8308,  ...,  0.0572,  0.0191, -0.3169],\n",
       "         [-0.0431, -0.1000,  0.4034,  ..., -0.1949, -0.6598,  0.0850]],\n",
       "\n",
       "        [[ 0.2595,  0.8384, -0.8348,  ..., -0.1543,  0.0079,  0.2668],\n",
       "         [ 0.0000,  0.0000,  0.0000,  ...,  0.0000,  0.0000,  0.0000],\n",
       "         [ 0.2006,  0.5472, -0.1465,  ..., -0.3979,  0.1268, -0.1716],\n",
       "         ...,\n",
       "         [ 0.1994,  0.7784,  0.0559,  ..., -0.2129,  0.2002,  0.0333],\n",
       "         [-0.1739,  0.3936, -0.0040,  ..., -0.0971,  0.0270, -0.0501],\n",
       "         [ 0.2164,  0.7385, -0.4314,  ..., -0.3492, -0.6519,  0.3517]],\n",
       "\n",
       "        [[ 0.0588,  0.2912, -0.6883,  ...,  0.2435, -0.1189,  0.4383],\n",
       "         [-0.2006, -0.5472,  0.1465,  ...,  0.3979, -0.1268,  0.1716],\n",
       "         [ 0.0000,  0.0000,  0.0000,  ...,  0.0000,  0.0000,  0.0000],\n",
       "         ...,\n",
       "         [-0.0013,  0.2312,  0.2025,  ...,  0.1850,  0.0734,  0.2049],\n",
       "         [-0.3745, -0.1536,  0.1426,  ...,  0.3008, -0.0998,  0.1215],\n",
       "         [ 0.0157,  0.1912, -0.2849,  ...,  0.0487, -0.7787,  0.5233]],\n",
       "\n",
       "        ...,\n",
       "\n",
       "        [[ 0.0601,  0.0600, -0.8908,  ...,  0.0586, -0.1923,  0.2334],\n",
       "         [-0.1994, -0.7784, -0.0559,  ...,  0.2129, -0.2002, -0.0333],\n",
       "         [ 0.0013, -0.2312, -0.2025,  ..., -0.1850, -0.0734, -0.2049],\n",
       "         ...,\n",
       "         [ 0.0000,  0.0000,  0.0000,  ...,  0.0000,  0.0000,  0.0000],\n",
       "         [-0.3733, -0.3848, -0.0599,  ...,  0.1158, -0.1732, -0.0835],\n",
       "         [ 0.0170, -0.0400, -0.4874,  ..., -0.1363, -0.8521,  0.3184]],\n",
       "\n",
       "        [[ 0.4334,  0.4449, -0.8308,  ..., -0.0572, -0.0191,  0.3169],\n",
       "         [ 0.1739, -0.3936,  0.0040,  ...,  0.0971, -0.0270,  0.0501],\n",
       "         [ 0.3745,  0.1536, -0.1426,  ..., -0.3008,  0.0998, -0.1215],\n",
       "         ...,\n",
       "         [ 0.3733,  0.3848,  0.0599,  ..., -0.1158,  0.1732,  0.0835],\n",
       "         [ 0.0000,  0.0000,  0.0000,  ...,  0.0000,  0.0000,  0.0000],\n",
       "         [ 0.3903,  0.3449, -0.4275,  ..., -0.2521, -0.6789,  0.4019]],\n",
       "\n",
       "        [[ 0.0431,  0.1000, -0.4034,  ...,  0.1949,  0.6598, -0.0850],\n",
       "         [-0.2164, -0.7385,  0.4314,  ...,  0.3492,  0.6519, -0.3517],\n",
       "         [-0.0157, -0.1912,  0.2849,  ..., -0.0487,  0.7787, -0.5233],\n",
       "         ...,\n",
       "         [-0.0170,  0.0400,  0.4874,  ...,  0.1363,  0.8521, -0.3184],\n",
       "         [-0.3903, -0.3449,  0.4275,  ...,  0.2521,  0.6789, -0.4019],\n",
       "         [ 0.0000,  0.0000,  0.0000,  ...,  0.0000,  0.0000,  0.0000]]])"
      ]
     },
     "execution_count": 18,
     "metadata": {},
     "output_type": "execute_result"
    }
   ],
   "source": [
    "resultant_tensor"
   ]
  },
  {
   "cell_type": "code",
   "execution_count": 19,
   "id": "001090a1",
   "metadata": {},
   "outputs": [],
   "source": [
    "def batch_differences_cosine_distance(logits_student, logits_teacher):\n",
    "    batch_size = logits_teacher.shape[0]\n",
    "    student_differences = logits_student.unsqueeze(1) - logits_student.unsqueeze(0)\n",
    "    teacher_differences = logits_teacher.unsqueeze(1) - logits_teacher.unsqueeze(0)\n",
    "    print(student_differences,teacher_differences)\n",
    "    cosine_dist = 1 - F.cosine_similarity(student_differences, teacher_differences, dim = -1 )\n",
    "    return cosine_dist.sum() - batch_size #this gets rid of the ones on diag. \n",
    "\n",
    "def batch_differences_cosine_distance(logits_student, logits_teacher):\n",
    "    batch_size = logits_teacher.shape[0]\n",
    "    student_differences = logits_student.unsqueeze(1) - logits_student.unsqueeze(0)\n",
    "    teacher_differences = logits_teacher.unsqueeze(1) - logits_teacher.unsqueeze(0)\n",
    "    cosine_dist = 1 - F.cosine_similarity(student_differences, teacher_differences, dim = -1 )\n",
    "    eye = torch.eye(batch_size)\n",
    "    cosine_dist = cosine_dist - eye\n",
    "    return cosine_dist.mean()"
   ]
  },
  {
   "cell_type": "code",
   "execution_count": 20,
   "id": "2fed8724",
   "metadata": {},
   "outputs": [
    {
     "data": {
      "text/plain": [
       "tensor(5.9605e-08)"
      ]
     },
     "execution_count": 20,
     "metadata": {},
     "output_type": "execute_result"
    }
   ],
   "source": [
    "x = torch.tensor([0.1,0.1,0.1])\n",
    "y = torch.tensor([0.1,0.1,0.1])\n",
    "1 - F.cosine_similarity(x, y, dim = -1 )"
   ]
  },
  {
   "cell_type": "code",
   "execution_count": 21,
   "id": "cd4ccd17",
   "metadata": {},
   "outputs": [
    {
     "data": {
      "text/plain": [
       "(tensor([[0.1433, 0.0899, 0.9054,  ..., 0.4086, 0.2175, 0.5025],\n",
       "         [0.4028, 0.9284, 0.0706,  ..., 0.2542, 0.2254, 0.7693],\n",
       "         [0.2022, 0.3812, 0.2172,  ..., 0.6521, 0.0986, 0.9409],\n",
       "         ...,\n",
       "         [0.2034, 0.1500, 0.0147,  ..., 0.4671, 0.0252, 0.7360],\n",
       "         [0.5767, 0.5348, 0.0746,  ..., 0.3513, 0.1984, 0.8194],\n",
       "         [0.1864, 0.1899, 0.5021,  ..., 0.6034, 0.8773, 0.4176]]),\n",
       " tensor([[0.4984, 0.7778, 0.2903,  ..., 0.4644, 0.2997, 0.2338],\n",
       "         [0.0645, 0.0519, 0.1347,  ..., 0.7958, 0.8936, 0.9063],\n",
       "         [0.2881, 0.4640, 0.0094,  ..., 0.8255, 0.9478, 0.8351],\n",
       "         ...,\n",
       "         [0.0729, 0.1950, 0.5966,  ..., 0.4308, 0.4037, 0.9627],\n",
       "         [0.9169, 0.8804, 0.4609,  ..., 0.6189, 0.6686, 0.6036],\n",
       "         [0.7222, 0.5569, 0.1543,  ..., 0.4772, 0.8398, 0.4075]]))"
      ]
     },
     "execution_count": 21,
     "metadata": {},
     "output_type": "execute_result"
    }
   ],
   "source": [
    "logits,mlogits"
   ]
  },
  {
   "cell_type": "code",
   "execution_count": 22,
   "id": "4ec8ac26",
   "metadata": {},
   "outputs": [
    {
     "data": {
      "text/plain": [
       "tensor(0.9973)"
      ]
     },
     "execution_count": 22,
     "metadata": {},
     "output_type": "execute_result"
    }
   ],
   "source": [
    "batch_differences_cosine_distance(logits,mlogits)"
   ]
  },
  {
   "cell_type": "code",
   "execution_count": 23,
   "id": "bef3c448",
   "metadata": {},
   "outputs": [],
   "source": [
    "def bd_mse(logits_student, logits_teacher):\n",
    "    student_differences = logits_student.unsqueeze(1) - logits_student.unsqueeze(0)\n",
    "    teacher_differences = logits_teacher.unsqueeze(1) - logits_teacher.unsqueeze(0)\n",
    "    mse_loss = F.mse_loss(student_differences, teacher_differences, reduction='mean')  \n",
    "    return mse_loss"
   ]
  },
  {
   "cell_type": "code",
   "execution_count": 24,
   "id": "0558c0bf",
   "metadata": {},
   "outputs": [
    {
     "data": {
      "text/plain": [
       "tensor(0.3323)"
      ]
     },
     "execution_count": 24,
     "metadata": {},
     "output_type": "execute_result"
    }
   ],
   "source": [
    "bd_mse(logits,mlogits)"
   ]
  },
  {
   "cell_type": "code",
   "execution_count": 25,
   "id": "22fe6939",
   "metadata": {},
   "outputs": [
    {
     "data": {
      "image/png": "[encoded data removed]",
      "text/plain": [
       "<Figure size 800x500 with 1 Axes>"
      ]
     },
     "metadata": {},
     "output_type": "display_data"
    }
   ],
   "source": [
    "import numpy as np\n",
    "import matplotlib.pyplot as plt\n",
    "\n",
    "# Define the function with a specific k value\n",
    "j = 2\n",
    "k = 0.01\n",
    "e=2\n",
    "f = lambda x: 1 + j*(1 - np.exp(-k*x**e))\n",
    "\n",
    "# Generate x values from 0 to 10\n",
    "x = np.linspace(0, 10, 400)\n",
    "y = f(x)\n",
    "\n",
    "# Plot the function\n",
    "plt.figure(figsize=(8, 5))\n",
    "plt.plot(x, y, label='f(x) = 1 - e^(-kx)', color='blue')\n",
    "plt.axhline(y=1, color='red', linestyle='--', label='Horizontal Asymptote at y=1')\n",
    "plt.scatter([0], [0], color='red')  # Origin point\n",
    "plt.title('Function with Horizontal Asymptote at y=1')\n",
    "plt.xlabel('x')\n",
    "plt.ylabel('f(x)')\n",
    "plt.legend()\n",
    "plt.grid(True)\n",
    "plt.show()"
   ]
  },
  {
   "cell_type": "code",
   "execution_count": 26,
   "id": "6b47123e",
   "metadata": {},
   "outputs": [],
   "source": [
    "j = 0.1 #where is the asymptote.  This needs to be low so your products don't overflow.  depends on batch size\n",
    "k = 0.5 #hyper param.  how bunched up by the origin do you want the gradient slope.  lower flattens it out, higher squeezes it close to zero\n",
    "\n",
    "# Define the function using PyTorch operations\n",
    "def FLP(x, j = 1, k = 1, e = 1): #(flatter for Lots of Products)\n",
    "    return 1 + j * (1 - torch.exp(-k * x**e))\n"
   ]
  },
  {
   "cell_type": "code",
   "execution_count": 27,
   "id": "f8481ae3",
   "metadata": {},
   "outputs": [
    {
     "data": {
      "text/plain": [
       "array([ 0.        ,  0.02506266,  0.05012531,  0.07518797,  0.10025063,\n",
       "        0.12531328,  0.15037594,  0.1754386 ,  0.20050125,  0.22556391,\n",
       "        0.25062657,  0.27568922,  0.30075188,  0.32581454,  0.35087719,\n",
       "        0.37593985,  0.40100251,  0.42606516,  0.45112782,  0.47619048,\n",
       "        0.50125313,  0.52631579,  0.55137845,  0.5764411 ,  0.60150376,\n",
       "        0.62656642,  0.65162907,  0.67669173,  0.70175439,  0.72681704,\n",
       "        0.7518797 ,  0.77694236,  0.80200501,  0.82706767,  0.85213033,\n",
       "        0.87719298,  0.90225564,  0.9273183 ,  0.95238095,  0.97744361,\n",
       "        1.00250627,  1.02756892,  1.05263158,  1.07769424,  1.10275689,\n",
       "        1.12781955,  1.15288221,  1.17794486,  1.20300752,  1.22807018,\n",
       "        1.25313283,  1.27819549,  1.30325815,  1.3283208 ,  1.35338346,\n",
       "        1.37844612,  1.40350877,  1.42857143,  1.45363409,  1.47869674,\n",
       "        1.5037594 ,  1.52882206,  1.55388471,  1.57894737,  1.60401003,\n",
       "        1.62907268,  1.65413534,  1.67919799,  1.70426065,  1.72932331,\n",
       "        1.75438596,  1.77944862,  1.80451128,  1.82957393,  1.85463659,\n",
       "        1.87969925,  1.9047619 ,  1.92982456,  1.95488722,  1.97994987,\n",
       "        2.00501253,  2.03007519,  2.05513784,  2.0802005 ,  2.10526316,\n",
       "        2.13032581,  2.15538847,  2.18045113,  2.20551378,  2.23057644,\n",
       "        2.2556391 ,  2.28070175,  2.30576441,  2.33082707,  2.35588972,\n",
       "        2.38095238,  2.40601504,  2.43107769,  2.45614035,  2.48120301,\n",
       "        2.50626566,  2.53132832,  2.55639098,  2.58145363,  2.60651629,\n",
       "        2.63157895,  2.6566416 ,  2.68170426,  2.70676692,  2.73182957,\n",
       "        2.75689223,  2.78195489,  2.80701754,  2.8320802 ,  2.85714286,\n",
       "        2.88220551,  2.90726817,  2.93233083,  2.95739348,  2.98245614,\n",
       "        3.0075188 ,  3.03258145,  3.05764411,  3.08270677,  3.10776942,\n",
       "        3.13283208,  3.15789474,  3.18295739,  3.20802005,  3.23308271,\n",
       "        3.25814536,  3.28320802,  3.30827068,  3.33333333,  3.35839599,\n",
       "        3.38345865,  3.4085213 ,  3.43358396,  3.45864662,  3.48370927,\n",
       "        3.50877193,  3.53383459,  3.55889724,  3.5839599 ,  3.60902256,\n",
       "        3.63408521,  3.65914787,  3.68421053,  3.70927318,  3.73433584,\n",
       "        3.7593985 ,  3.78446115,  3.80952381,  3.83458647,  3.85964912,\n",
       "        3.88471178,  3.90977444,  3.93483709,  3.95989975,  3.98496241,\n",
       "        4.01002506,  4.03508772,  4.06015038,  4.08521303,  4.11027569,\n",
       "        4.13533835,  4.160401  ,  4.18546366,  4.21052632,  4.23558897,\n",
       "        4.26065163,  4.28571429,  4.31077694,  4.3358396 ,  4.36090226,\n",
       "        4.38596491,  4.41102757,  4.43609023,  4.46115288,  4.48621554,\n",
       "        4.5112782 ,  4.53634085,  4.56140351,  4.58646617,  4.61152882,\n",
       "        4.63659148,  4.66165414,  4.68671679,  4.71177945,  4.73684211,\n",
       "        4.76190476,  4.78696742,  4.81203008,  4.83709273,  4.86215539,\n",
       "        4.88721805,  4.9122807 ,  4.93734336,  4.96240602,  4.98746867,\n",
       "        5.01253133,  5.03759398,  5.06265664,  5.0877193 ,  5.11278195,\n",
       "        5.13784461,  5.16290727,  5.18796992,  5.21303258,  5.23809524,\n",
       "        5.26315789,  5.28822055,  5.31328321,  5.33834586,  5.36340852,\n",
       "        5.38847118,  5.41353383,  5.43859649,  5.46365915,  5.4887218 ,\n",
       "        5.51378446,  5.53884712,  5.56390977,  5.58897243,  5.61403509,\n",
       "        5.63909774,  5.6641604 ,  5.68922306,  5.71428571,  5.73934837,\n",
       "        5.76441103,  5.78947368,  5.81453634,  5.839599  ,  5.86466165,\n",
       "        5.88972431,  5.91478697,  5.93984962,  5.96491228,  5.98997494,\n",
       "        6.01503759,  6.04010025,  6.06516291,  6.09022556,  6.11528822,\n",
       "        6.14035088,  6.16541353,  6.19047619,  6.21553885,  6.2406015 ,\n",
       "        6.26566416,  6.29072682,  6.31578947,  6.34085213,  6.36591479,\n",
       "        6.39097744,  6.4160401 ,  6.44110276,  6.46616541,  6.49122807,\n",
       "        6.51629073,  6.54135338,  6.56641604,  6.5914787 ,  6.61654135,\n",
       "        6.64160401,  6.66666667,  6.69172932,  6.71679198,  6.74185464,\n",
       "        6.76691729,  6.79197995,  6.81704261,  6.84210526,  6.86716792,\n",
       "        6.89223058,  6.91729323,  6.94235589,  6.96741855,  6.9924812 ,\n",
       "        7.01754386,  7.04260652,  7.06766917,  7.09273183,  7.11779449,\n",
       "        7.14285714,  7.1679198 ,  7.19298246,  7.21804511,  7.24310777,\n",
       "        7.26817043,  7.29323308,  7.31829574,  7.3433584 ,  7.36842105,\n",
       "        7.39348371,  7.41854637,  7.44360902,  7.46867168,  7.49373434,\n",
       "        7.51879699,  7.54385965,  7.56892231,  7.59398496,  7.61904762,\n",
       "        7.64411028,  7.66917293,  7.69423559,  7.71929825,  7.7443609 ,\n",
       "        7.76942356,  7.79448622,  7.81954887,  7.84461153,  7.86967419,\n",
       "        7.89473684,  7.9197995 ,  7.94486216,  7.96992481,  7.99498747,\n",
       "        8.02005013,  8.04511278,  8.07017544,  8.0952381 ,  8.12030075,\n",
       "        8.14536341,  8.17042607,  8.19548872,  8.22055138,  8.24561404,\n",
       "        8.27067669,  8.29573935,  8.32080201,  8.34586466,  8.37092732,\n",
       "        8.39598997,  8.42105263,  8.44611529,  8.47117794,  8.4962406 ,\n",
       "        8.52130326,  8.54636591,  8.57142857,  8.59649123,  8.62155388,\n",
       "        8.64661654,  8.6716792 ,  8.69674185,  8.72180451,  8.74686717,\n",
       "        8.77192982,  8.79699248,  8.82205514,  8.84711779,  8.87218045,\n",
       "        8.89724311,  8.92230576,  8.94736842,  8.97243108,  8.99749373,\n",
       "        9.02255639,  9.04761905,  9.0726817 ,  9.09774436,  9.12280702,\n",
       "        9.14786967,  9.17293233,  9.19799499,  9.22305764,  9.2481203 ,\n",
       "        9.27318296,  9.29824561,  9.32330827,  9.34837093,  9.37343358,\n",
       "        9.39849624,  9.4235589 ,  9.44862155,  9.47368421,  9.49874687,\n",
       "        9.52380952,  9.54887218,  9.57393484,  9.59899749,  9.62406015,\n",
       "        9.64912281,  9.67418546,  9.69924812,  9.72431078,  9.74937343,\n",
       "        9.77443609,  9.79949875,  9.8245614 ,  9.84962406,  9.87468672,\n",
       "        9.89974937,  9.92481203,  9.94987469,  9.97493734, 10.        ])"
      ]
     },
     "execution_count": 27,
     "metadata": {},
     "output_type": "execute_result"
    }
   ],
   "source": [
    "x"
   ]
  },
  {
   "cell_type": "code",
   "execution_count": 28,
   "id": "c3fa15b8",
   "metadata": {},
   "outputs": [
    {
     "data": {
      "text/plain": [
       "tensor([[1.0014, 1.0009, 1.0087,  ..., 1.0040, 1.0022, 1.0049],\n",
       "        [1.0039, 1.0089, 1.0007,  ..., 1.0025, 1.0022, 1.0074],\n",
       "        [1.0020, 1.0037, 1.0021,  ..., 1.0063, 1.0010, 1.0090],\n",
       "        ...,\n",
       "        [1.0020, 1.0015, 1.0001,  ..., 1.0046, 1.0003, 1.0071],\n",
       "        [1.0056, 1.0052, 1.0007,  ..., 1.0035, 1.0020, 1.0079],\n",
       "        [1.0018, 1.0019, 1.0049,  ..., 1.0059, 1.0084, 1.0041]])"
      ]
     },
     "execution_count": 28,
     "metadata": {},
     "output_type": "execute_result"
    }
   ],
   "source": [
    " FLP(logits, j = 0.1, k = 0.1)"
   ]
  },
  {
   "cell_type": "code",
   "execution_count": 29,
   "id": "e88c202b",
   "metadata": {},
   "outputs": [],
   "source": [
    "def batch_contrastive_products(logits_student, logits_teacher,option = 0, j = 0.1, k = 0.1, mse_k = 0.1):\n",
    "    batch_size = logits_teacher.shape[0]\n",
    "    student_differences = logits_student.unsqueeze(1) - logits_student.unsqueeze(0)\n",
    "    teacher_differences = logits_teacher.unsqueeze(1) - logits_teacher.unsqueeze(0)\n",
    "    cosine_dist = 2 - F.cosine_similarity(student_differences, teacher_differences, dim = -1 ) #1 means identical 3 is opposite\n",
    "    cosine_dist = cosine_dist - torch.eye(batch_size) #gets rid of the 2 along the diag\n",
    "    \n",
    "    mse_loss = F.mse_loss(student_differences, teacher_differences, reduction='none').mean(dim=-1) #1 means exactly the same\n",
    "    in_range_mse_loss = FLP(mse_loss,j=2, k=mse_k) #try this for now.  this puts mse in the same range as cd above\n",
    "    agg_loss = cosine_dist * in_range_mse_loss\n",
    "    \n",
    "    if option == 0:\n",
    "        return agg_loss.mean()\n",
    "    if option == 1:\n",
    "        #this does an inter batch product to try not to rob patricia to pay pauline\n",
    "        if batch_size % 2 == 0:\n",
    "            halves = torch.chunk(agg_loss, 2, dim=0)\n",
    "            inter_batch_prod = halves[0] * halves[1]\n",
    "            return inter_batch_prod.mean()\n",
    "        else:\n",
    "            return agg_loss.mean()\n",
    "    if option == 2:\n",
    "        #this will collapse along the batch dim with products before mean.\n",
    "        squashed_loss = FLP( agg_loss-1, j, k)\n",
    "        prod_red_loss = torch.prod(squashed_loss, dim = 0)\n",
    "        return prod_red_loss.mean()\n",
    "    \n",
    "    if option == 3:\n",
    "        #full product collapse.  no robbing any of the apostles to pay any of the others.  full gradient communism\n",
    "        squashed_loss = FLP( agg_loss-1, j, k)\n",
    "        prod_red_loss = torch.prod(squashed_loss)\n",
    "        \n",
    "        return prod_red_loss.mean()"
   ]
  },
  {
   "cell_type": "code",
   "execution_count": 30,
   "id": "808d90c5",
   "metadata": {},
   "outputs": [
    {
     "data": {
      "text/plain": [
       "tensor(inf)"
      ]
     },
     "execution_count": 30,
     "metadata": {},
     "output_type": "execute_result"
    }
   ],
   "source": [
    "batch_contrastive_products(logits,   mlogits, option = 3, j = 1.0, k = 0.1, mse_k = 0.1)"
   ]
  },
  {
   "cell_type": "code",
   "execution_count": 31,
   "id": "35c95e8a",
   "metadata": {},
   "outputs": [
    {
     "data": {
      "text/plain": [
       "(tensor([[0.1433, 0.0899, 0.9054,  ..., 0.4086, 0.2175, 0.5025],\n",
       "         [0.4028, 0.9284, 0.0706,  ..., 0.2542, 0.2254, 0.7693],\n",
       "         [0.2022, 0.3812, 0.2172,  ..., 0.6521, 0.0986, 0.9409],\n",
       "         ...,\n",
       "         [0.2034, 0.1500, 0.0147,  ..., 0.4671, 0.0252, 0.7360],\n",
       "         [0.5767, 0.5348, 0.0746,  ..., 0.3513, 0.1984, 0.8194],\n",
       "         [0.1864, 0.1899, 0.5021,  ..., 0.6034, 0.8773, 0.4176]]),\n",
       " tensor([[1000.1433, 1000.0900, 1000.9055,  ..., 1000.4086, 1000.2175,\n",
       "          1000.5026],\n",
       "         [1000.4028, 1000.9284, 1000.0706,  ..., 1000.2542, 1000.2254,\n",
       "          1000.7693],\n",
       "         [1000.2021, 1000.3812, 1000.2172,  ..., 1000.6521, 1000.0986,\n",
       "          1000.9409],\n",
       "         ...,\n",
       "         [1000.2034, 1000.1500, 1000.0147,  ..., 1000.4671, 1000.0252,\n",
       "          1000.7360],\n",
       "         [1000.5767, 1000.5348, 1000.0746,  ..., 1000.3513, 1000.1984,\n",
       "          1000.8194],\n",
       "         [1000.1864, 1000.1899, 1000.5021,  ..., 1000.6034, 1000.8773,\n",
       "          1000.4175]]))"
      ]
     },
     "execution_count": 31,
     "metadata": {},
     "output_type": "execute_result"
    }
   ],
   "source": [
    "logits, logits + 1000"
   ]
  },
  {
   "cell_type": "code",
   "execution_count": 32,
   "id": "1a29d91c",
   "metadata": {},
   "outputs": [
    {
     "data": {
      "text/plain": [
       "431439.8832739892"
      ]
     },
     "execution_count": 32,
     "metadata": {},
     "output_type": "execute_result"
    }
   ],
   "source": [
    "1.5**32"
   ]
  },
  {
   "cell_type": "code",
   "execution_count": 33,
   "id": "1fdd1421",
   "metadata": {},
   "outputs": [],
   "source": [
    "def FLP(x, j = 1, k = 1, e = 1): #(flatter for Lots of Products)\n",
    "    return 1 + j * (1 - torch.exp(-k * x**e))\n",
    "\n",
    "def batch_contrastive_products_loss_interaction(logits_student\n",
    "                                                , logits_teacher\n",
    "                                                , option = 0\n",
    "                                                , collapse_option = 0\n",
    "                                                , j = 0.1\n",
    "                                                , k = 0.1\n",
    "                                                , k_o = 0.1\n",
    "                                                , j_o = 0.1):\n",
    "    batch_size = logits_teacher.shape[0]\n",
    "    student_differences = logits_student.unsqueeze(1) - logits_student.unsqueeze(0)\n",
    "    teacher_differences = logits_teacher.unsqueeze(1) - logits_teacher.unsqueeze(0)\n",
    "    cosine_dist = 1 - F.cosine_similarity(student_differences, teacher_differences, dim = -1 ) \n",
    "    \n",
    "    cosine_dist = cosine_dist - torch.eye(batch_size).to(cosine_dist.device) #gets rid of the 2 along the diag\n",
    "    \n",
    "    squasehd_product = FLP(cosine_dist,j=j, k=k, e=2)\n",
    "    collapsed_products = torch.prod(squasehd_product, dim = -1).unsqueeze(1) #1 to (1+j) ^^batchsize\n",
    "    \n",
    "    if option == 0:\n",
    "        \"\"\"\n",
    "        uses mse, \n",
    "        \"\"\"\n",
    "        sample_loss = F.mse_loss(logits_student, logits_teacher, reduction='none') + 1 #1 to infinity\n",
    "        \n",
    "    if option == 1:\n",
    "        sample_loss = 2 - F.cosine_similarity(logits_student, logits_teacher, dim=-1) #1 to 3...\n",
    "    \n",
    "    if collapse_option == 0:\n",
    "        print(sample_loss)\n",
    "        return (collapsed_products*sample_loss).mean()\n",
    "    \n",
    "    if collapse_option == 1:\n",
    "        pre_squashed = (collapsed_products*sample_loss) - 1 \n",
    "        squashed_output = FLP(pre_squashed,j=j_o, k=k_o, e = 2)\n",
    "        return torch.prod(squashed_output)"
   ]
  },
  {
   "cell_type": "code",
   "execution_count": 34,
   "id": "2c4fb415",
   "metadata": {},
   "outputs": [
    {
     "data": {
      "text/plain": [
       "tensor(1.)"
      ]
     },
     "execution_count": 34,
     "metadata": {},
     "output_type": "execute_result"
    }
   ],
   "source": [
    "batch_contrastive_products_loss_interaction(logits,logits,option = 1, collapse_option = 1, j=0.5, k=0.1)"
   ]
  },
  {
   "cell_type": "code",
   "execution_count": 35,
   "id": "4bb50e88",
   "metadata": {},
   "outputs": [
    {
     "data": {
      "text/plain": [
       "(116842.20576272637, 1994834.643278906, 431439.8832739892)"
      ]
     },
     "execution_count": 35,
     "metadata": {},
     "output_type": "execute_result"
    }
   ],
   "source": [
    "1.2**64, 1.12**128, 1.5**32 #some j values"
   ]
  },
  {
   "cell_type": "code",
   "execution_count": 36,
   "id": "d5d9fcae",
   "metadata": {},
   "outputs": [
    {
     "ename": "SyntaxError",
     "evalue": "unterminated string literal (detected at line 1) (2840387486.py, line 1)",
     "output_type": "error",
     "traceback": [
      "\u001b[0;36m  Cell \u001b[0;32mIn[36], line 1\u001b[0;36m\u001b[0m\n\u001b[0;31m    but j is dependent on the batch big time. you want a number that doesn't overflow.\u001b[0m\n\u001b[0m                                                                          ^\u001b[0m\n\u001b[0;31mSyntaxError\u001b[0m\u001b[0;31m:\u001b[0m unterminated string literal (detected at line 1)\n"
     ]
    }
   ],
   "source": [
    "but j is dependent on the batch big time. you want a number that doesn't overflow.   \n"
   ]
  },
  {
   "cell_type": "code",
   "execution_count": null,
   "id": "537059db",
   "metadata": {},
   "outputs": [],
   "source": [
    "high k means you have to be really close to the right answer to get the loss reduction.  i think i want a high k.\n",
    "with no momentum? it is a shallow gradient for a long time, then it drops then flattens out just right in front of the correct loss.  \n",
    "it should be a low lr.\n",
    "mmm, not sure this is true.  a lower k, like, under 1, gives me wider range of values with more informative gradients.  and with the exponent i still have breaks on it? "
   ]
  },
  {
   "cell_type": "code",
   "execution_count": null,
   "id": "1a268415",
   "metadata": {},
   "outputs": [],
   "source": [
    "logits.shape, mlogits.shape"
   ]
  },
  {
   "cell_type": "code",
   "execution_count": null,
   "id": "b0f67d0f",
   "metadata": {},
   "outputs": [],
   "source": [
    "def cosine_dist(logits_student, logits_teacher):\n",
    "    cosine_distance = 2 - F.cosine_similarity(logits_student, logits_teacher)\n",
    "    print(cosine_distance)\n",
    "    return cosine_distance.mean()"
   ]
  },
  {
   "cell_type": "code",
   "execution_count": null,
   "id": "c5d2cc51",
   "metadata": {},
   "outputs": [],
   "source": [
    "batch_differences_cosine_distance(logits, logits), cosine_dist(logits, mlogits)"
   ]
  },
  {
   "cell_type": "code",
   "execution_count": null,
   "id": "fa66c36d",
   "metadata": {},
   "outputs": [],
   "source": [
    "def batch_differences_cosine_distance(logits_student, logits_teacher):\n",
    "\n",
    "    student_differences = logits_student.unsqueeze(1) - logits_student.unsqueeze(0)\n",
    "    teacher_differences = logits_teacher.unsqueeze(1) - logits_teacher.unsqueeze(0)\n",
    "    batch_cosine_dist = 2 - F.cosine_similarity(student_differences, teacher_differences, dim = -1 )\n",
    "    eye = torch.eye(batch_cosine_dist.shape[0]).to(batch_cosine_dist.device)\n",
    "    batch_cosine_dist = batch_cosine_dist - eye\n",
    "    cosine_dist = 2 - F.cosine_similarity(logits_student, logits_teacher)\n",
    "    prod = batch_cosine_dist * cosine_dist\n",
    "    print(prod, prod.shape)\n",
    "    return prod.mean()"
   ]
  },
  {
   "cell_type": "code",
   "execution_count": null,
   "id": "3f4f0530",
   "metadata": {},
   "outputs": [],
   "source": [
    "batch_differences_cosine_distance(logits, logits)"
   ]
  },
  {
   "cell_type": "code",
   "execution_count": null,
   "id": "99a324d9",
   "metadata": {},
   "outputs": [],
   "source": [
    "def batch_differences_cosine_distance_and_2_products(logits_student, logits_teacher):\n",
    "\n",
    "    student_differences = logits_student.unsqueeze(1) - logits_student.unsqueeze(0)\n",
    "    teacher_differences = logits_teacher.unsqueeze(1) - logits_teacher.unsqueeze(0)\n",
    "    batch_cosine_dist = 2 - F.cosine_similarity(student_differences, teacher_differences, dim = -1 )\n",
    "    eye = torch.eye(logits_student.shape[0]).to(batch_cosine_dist.device)\n",
    "    cosine_dist = 2 - F.cosine_similarity(logits_student, logits_teacher)\n",
    "    outer_cd = torch.outer(cosine_dist,cosine_dist)*(1-eye)\n",
    "    prod = outer_cd * batch_cosine_dist\n",
    "    \n",
    "    return prod.mean()"
   ]
  },
  {
   "cell_type": "code",
   "execution_count": null,
   "id": "da3480fd",
   "metadata": {},
   "outputs": [],
   "source": [
    "batch_differences_cosine_distance_and_2_products(logits, 1+mlogits)"
   ]
  },
  {
   "cell_type": "code",
   "execution_count": null,
   "id": "b0e2462f",
   "metadata": {},
   "outputs": [],
   "source": [
    "def batch_differences_cosine_distance_and_3_products(logits_student, logits_teacher):\n",
    "\n",
    "    student_differences = logits_student.unsqueeze(1) - logits_student.unsqueeze(0)\n",
    "    teacher_differences = logits_teacher.unsqueeze(1) - logits_teacher.unsqueeze(0)\n",
    "    batch_cosine_dist = 2 - F.cosine_similarity(student_differences, teacher_differences, dim = -1 )\n",
    "    eye = torch.eye(logits_student.shape[0]).to(batch_cosine_dist.device)\n",
    "    cosine_dist = 2 - F.cosine_similarity(logits_student, logits_teacher)\n",
    "    outer_cd = torch.outer(cosine_dist,cosine_dist)*(1-eye)\n",
    "    outer_3d = torch.einsum('ij,jk->ijk', [outer_cd, outer_cd.T])\n",
    "    dif_3d = torch.einsum('ij,jk->ijk', [batch_cosine_dist, batch_cosine_dist.T])\n",
    "    prod = outer_3d * dif_3d\n",
    "    #prod = prod.sum(dim=-1)\n",
    "   \n",
    "    return prod.mean()"
   ]
  },
  {
   "cell_type": "code",
   "execution_count": null,
   "id": "67f17740",
   "metadata": {},
   "outputs": [],
   "source": [
    "batch_differences_cosine_distance_and_3_products(logits, logits)"
   ]
  },
  {
   "cell_type": "code",
   "execution_count": null,
   "id": "f7664850",
   "metadata": {},
   "outputs": [],
   "source": [
    "def batch_differences_cosine_distance_and_alter_products(logits_student, logits_teacher):\n",
    "\n",
    "    student_differences = logits_student.unsqueeze(1) - logits_student.unsqueeze(0)\n",
    "    teacher_differences = logits_teacher.unsqueeze(1) - logits_teacher.unsqueeze(0)\n",
    "    batch_cosine_dist = 2 - F.cosine_similarity(student_differences, teacher_differences, dim = -1 )\n",
    "    eye = torch.eye(logits_student.shape[0]).to(batch_cosine_dist.device)\n",
    "    cosine_dist = 2 - F.cosine_similarity(logits_student, logits_teacher)\n",
    "    outer_cd = torch.outer(cosine_dist,cosine_dist)*(1-eye)\n",
    "    prod = outer_cd * batch_cosine_dist\n",
    "   \n",
    "    alter_prod = prod*cosine_dist\n",
    "    return alter_prod.mean()"
   ]
  },
  {
   "cell_type": "code",
   "execution_count": null,
   "id": "fd7b3546",
   "metadata": {},
   "outputs": [],
   "source": [
    "batch_differences_cosine_distance_and_alter_products(logits, mlogits)"
   ]
  },
  {
   "cell_type": "code",
   "execution_count": null,
   "id": "057d2ad6",
   "metadata": {},
   "outputs": [],
   "source": [
    "def batch_differences_mse_and_2_products(logits_student, logits_teacher):\n",
    "\n",
    "    student_differences = logits_student.unsqueeze(1) - logits_student.unsqueeze(0)\n",
    "    teacher_differences = logits_teacher.unsqueeze(1) - logits_teacher.unsqueeze(0)\n",
    "    batch_cosine_dist = 2 - F.cosine_similarity(student_differences, teacher_differences, dim = -1 )\n",
    "    \n",
    "    eye = torch.eye(logits_student.shape[0]).to(batch_cosine_dist.device)\n",
    "    mse = F.mse_loss(logits_student, logits_teacher, reduction='none').mean(dim=-1)\n",
    "    \n",
    "    outer_cd = torch.outer(mse,mse)*(1-eye)\n",
    "    prod = outer_cd * batch_cosine_dist\n",
    "    \n",
    "    return prod.mean()"
   ]
  },
  {
   "cell_type": "code",
   "execution_count": null,
   "id": "4c4795be",
   "metadata": {},
   "outputs": [],
   "source": [
    "batch_differences_mse_and_2_products(logits, 1+logits)"
   ]
  },
  {
   "cell_type": "code",
   "execution_count": null,
   "id": "5a23d709",
   "metadata": {},
   "outputs": [],
   "source": [
    "also, the normalized thing may be good to mess with with just sld.   do that as well."
   ]
  },
  {
   "cell_type": "code",
   "execution_count": null,
   "id": "ee873d02",
   "metadata": {},
   "outputs": [],
   "source": [
    "def sldintrinsic_loss_prod(logits_student, logits_teacher):\n",
    "    batch_size = logits_teacher.shape[0]\n",
    "    shuffled_logits_teacher = logits_teacher[[batch_size - 1] + [i for i in range(batch_size - 1)]]\n",
    "    shuffled_logits_student = logits_student[[batch_size - 1] + [i for i in range(batch_size - 1)]]\n",
    "    cosine_dist = 2 - F.cosine_similarity(logits_student - shuffled_logits_student, logits_teacher - shuffled_logits_teacher, dim=-1 )\n",
    "    mse_loss = 1 + F.mse_loss(logits_student, logits_teacher, reduction='none').sum(dim=-1)\n",
    "    prod = mse_loss*cosine_dist\n",
    "    return prod.mean()"
   ]
  },
  {
   "cell_type": "code",
   "execution_count": null,
   "id": "c0e19d1e",
   "metadata": {},
   "outputs": [],
   "source": [
    "sldintrinsic_loss_prod(logits, + mlogits)"
   ]
  },
  {
   "cell_type": "code",
   "execution_count": null,
   "id": "d1a79c48",
   "metadata": {},
   "outputs": [],
   "source": [
    "def batch_differences_cosine_distance(logits_student, logits_teacher):\n",
    "\n",
    "    student_differences = logits_student.unsqueeze(1) - logits_student.unsqueeze(0)\n",
    "    teacher_differences = logits_teacher.unsqueeze(1) - logits_teacher.unsqueeze(0)\n",
    "    cosine_dist = 1 - F.cosine_similarity(student_differences, teacher_differences, dim = -1 )\n",
    "   \n",
    "    return cosine_dist.mean()\n",
    "\n",
    "def mse(logits_student, logits_teacher):\n",
    "    mse_loss = F.mse_loss(logits_student, logits_teacher, reduction='mean')\n",
    "    return mse_loss"
   ]
  },
  {
   "cell_type": "code",
   "execution_count": null,
   "id": "271da269",
   "metadata": {},
   "outputs": [],
   "source": [
    "def sldmse_2_prod(logits_student, logits_teacher):\n",
    "    batch_size = logits_teacher.shape[0]\n",
    "    shuffled_logits_teacher = logits_teacher[[batch_size - 1] + [i for i in range(batch_size - 1)]]\n",
    "    shuffled_logits_student = logits_student[[batch_size - 1] + [i for i in range(batch_size - 1)]]\n",
    "    cosine_dist = 2 - F.cosine_similarity(logits_student - shuffled_logits_student, logits_teacher - shuffled_logits_teacher, dim=-1 )\n",
    "    mse_loss = 1 + F.mse_loss(logits_student, logits_teacher, reduction='none').mean(dim=-1)\n",
    "    \n",
    "    #eye = torch.eye(batch_size).to(logits_student.device)\n",
    "    mse_outer = torch.outer(mse_loss,mse_loss) #*(1-eye)\n",
    "    cosine_dist_outer = torch.outer(cosine_dist,cosine_dist)\n",
    "\n",
    "    prod = mse_outer*cosine_dist_outer\n",
    "\n",
    "    return prod.mean()"
   ]
  },
  {
   "cell_type": "code",
   "execution_count": null,
   "id": "1b864cf6",
   "metadata": {},
   "outputs": [],
   "source": [
    "sldmse_2_prod(logits,mlogits)"
   ]
  },
  {
   "cell_type": "code",
   "execution_count": null,
   "id": "2979e2cf",
   "metadata": {},
   "outputs": [],
   "source": []
  },
  {
   "cell_type": "code",
   "execution_count": null,
   "id": "16d8ad90",
   "metadata": {},
   "outputs": [],
   "source": [
    "\n",
    "\n",
    "\n",
    "# Calculate cosine similarity within each item in the batch\n",
    "# Cosine distance = 1 - Cosine similarity\n",
    "cosine_similarity = torch.nn.functional.cosine_similarity(logits, logits, dim=2)\n",
    "cosine_distance = 1 - cosine_similarity\n",
    "\n",
    "# Since we are interested in the distance within each item (not between items), \n",
    "# we select the diagonal elements representing self-comparison (which should technically be 0 for distance)\n",
    "# but to illustrate, we'll calculate it as shown\n",
    "batch_cosine_distance = torch.diag(cosine_distance)\n",
    "\n",
    "batch_cosine_distance\n"
   ]
  },
  {
   "cell_type": "code",
   "execution_count": null,
   "id": "fa8b61d1",
   "metadata": {},
   "outputs": [],
   "source": [
    "logits.shape\n"
   ]
  },
  {
   "cell_type": "code",
   "execution_count": null,
   "id": "35ec9521",
   "metadata": {},
   "outputs": [],
   "source": [
    "cos_1 = torch.nn.functional.cosine_similarity(logits, logits, dim=-1)\n",
    "cos_2 = torch.nn.functional.cosine_similarity(logits, logits, dim=-2)"
   ]
  },
  {
   "cell_type": "code",
   "execution_count": null,
   "id": "c40f089c",
   "metadata": {},
   "outputs": [],
   "source": [
    "cos_1.shape,cos_2.shape"
   ]
  },
  {
   "cell_type": "code",
   "execution_count": null,
   "id": "1a775bf7",
   "metadata": {},
   "outputs": [],
   "source": [
    "def cos_both_dim(logits_student, logits_teacher):\n",
    "    cos_1 = 1 - torch.nn.functional.cosine_similarity(logits_student, logits_teacher, dim=-1)\n",
    "    cos_2 = 1 - torch.nn.functional.cosine_similarity(logits_student, logits_teacher, dim=-2)\n",
    "    \n",
    "    return cos_1.mean() + cos_2.mean()"
   ]
  },
  {
   "cell_type": "code",
   "execution_count": null,
   "id": "c87de626",
   "metadata": {},
   "outputs": [],
   "source": [
    "cos_both_dim(logits,  logits)"
   ]
  },
  {
   "cell_type": "code",
   "execution_count": null,
   "id": "766f57ad",
   "metadata": {},
   "outputs": [],
   "source": [
    "def cos_both_dim_prod(logits_student, logits_teacher):\n",
    "    cos_1 = 2 - torch.nn.functional.cosine_similarity(logits_student, logits_teacher, dim=-1)\n",
    "    cos_2 = 2 - torch.nn.functional.cosine_similarity(logits_student, logits_teacher, dim=-2)\n",
    "    product = torch.outer(cos_1,cos_2)\n",
    "    return product.mean()"
   ]
  },
  {
   "cell_type": "code",
   "execution_count": null,
   "id": "786f60ac",
   "metadata": {},
   "outputs": [],
   "source": [
    "cos_both_dim_prod(logits, 2 + logits)"
   ]
  },
  {
   "cell_type": "code",
   "execution_count": 114,
   "id": "0bb15466",
   "metadata": {},
   "outputs": [
    {
     "data": {
      "text/plain": [
       "tensor(0)"
      ]
     },
     "execution_count": 114,
     "metadata": {},
     "output_type": "execute_result"
    }
   ],
   "source": [
    "sum(torch.argmax(logits, axis = -1) - torch.argmax(2 +logits, axis = -1))"
   ]
  },
  {
   "cell_type": "code",
   "execution_count": 83,
   "id": "6c210c6e",
   "metadata": {},
   "outputs": [],
   "source": [
    "def cos_ma_interactive_cd(logits_student, logits_teacher):\n",
    "    #print(logits_student.shape)\n",
    "    student_class_ineraction_a = logits_student.unsqueeze(0)\n",
    "    student_class_ineraction_b = logits_student.unsqueeze(1)\n",
    "    student_class_ineraction_prod = student_class_ineraction_a * student_class_ineraction_b\n",
    "    \n",
    "    teacher_class_ineraction_a = logits_teacher.unsqueeze(0)\n",
    "    teacher_class_ineraction_b = logits_teacher.unsqueeze(1)\n",
    "    teacher_class_ineraction_prod = teacher_class_ineraction_a * teacher_class_ineraction_b\n",
    "    #cos_1 = 2 - torch.nn.functional.cosine_similarity(logits_student, logits_teacher, dim=-1)\n",
    "    #cos_2 = 2 - torch.nn.functional.cosine_similarity(logits_student, logits_teacher, dim=-2)\n",
    "    #product = torch.outer(cos_1,cos_2)\n",
    "    print(student_class_ineraction_prod.shape,teacher_class_ineraction_prod.shape)\n",
    "    cos_class_interaction =1 - torch.nn.functional.cosine_similarity(student_class_ineraction_prod\n",
    "                                                                  , teacher_class_ineraction_prod, dim=-1)\n",
    "    print(cos_class_interaction.shape)\n",
    "    return cos_class_interaction.mean()\n",
    "# i think i just do this additively to the previous 2."
   ]
  },
  {
   "cell_type": "code",
   "execution_count": 84,
   "id": "e8fb43c8",
   "metadata": {},
   "outputs": [
    {
     "name": "stdout",
     "output_type": "stream",
     "text": [
      "torch.Size([3, 3, 4]) torch.Size([3, 3, 4])\n",
      "torch.Size([3, 3])\n"
     ]
    },
    {
     "data": {
      "text/plain": [
       "tensor(-1.3245e-08)"
      ]
     },
     "execution_count": 84,
     "metadata": {},
     "output_type": "execute_result"
    }
   ],
   "source": [
    "cos_ma_interactive_cd(logits,logits)"
   ]
  },
  {
   "cell_type": "code",
   "execution_count": null,
   "id": "c5d69a94",
   "metadata": {},
   "outputs": [],
   "source": []
  }
 ],
 "metadata": {
  "kernelspec": {
   "display_name": "Python 3 (ipykernel)",
   "language": "python",
   "name": "python3"
  },
  "language_info": {
   "codemirror_mode": {
    "name": "ipython",
    "version": 3
   },
   "file_extension": ".py",
   "mimetype": "text/x-python",
   "name": "python",
   "nbconvert_exporter": "python",
   "pygments_lexer": "ipython3",
   "version": "3.10.12"
  }
 },
 "nbformat": 4,
 "nbformat_minor": 5
}
